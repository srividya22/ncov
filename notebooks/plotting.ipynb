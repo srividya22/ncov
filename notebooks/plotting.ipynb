{
 "cells": [
  {
   "cell_type": "code",
   "execution_count": 1,
   "metadata": {},
   "outputs": [],
   "source": [
    "from __future__ import (division, print_function, absolute_import,unicode_literals)\n",
    "import sys,os,shutil\n",
    "import subprocess\n",
    "#import simplejson\n",
    "import logging ,os \n",
    "import time\n",
    "import operator\n",
    "import seaborn as sns\n",
    "import matplotlib.pyplot as plt\n",
    "import numpy as np\n",
    "from matplotlib import colors\n",
    "from matplotlib.ticker import PercentFormatter\n",
    "import pandas as pd\n"
   ]
  },
  {
   "cell_type": "code",
   "execution_count": 2,
   "metadata": {},
   "outputs": [],
   "source": [
    "def log(message):\n",
    "    \"\"\" Log messages to standard output. \"\"\"\n",
    "    print(time.ctime() + ' --- ' + message, flush=True)"
   ]
  },
  {
   "cell_type": "code",
   "execution_count": 3,
   "metadata": {},
   "outputs": [],
   "source": [
    "def run_cmd(cmnd):\n",
    "  try:\n",
    "     output = subprocess.check_output(\n",
    "        cmnd, stderr=subprocess.STDOUT, shell=True,\n",
    "        universal_newlines=True)\n",
    "  except subprocess.CalledProcessError as exc:\n",
    "     print(\"Status : FAIL\", exc.returncode, exc.output)\n",
    "  else:\n",
    "    print(\"Output: \\n{}\\n\".format(output))"
   ]
  },
  {
   "cell_type": "code",
   "execution_count": 4,
   "metadata": {},
   "outputs": [
    {
     "name": "stdout",
     "output_type": "stream",
     "text": [
      "env: PATH=$PATH:/home/idies/workspace/Storage/sramakr4/persistent/bin:/home/idies/workspace/Storage/sramakr4/persistent/miniconda3/envs/nextstrain/bin:/home/idies/miniconda3/condabin:/home/idies/.local/bin:/bin\n",
      "env: PYTHONPATH=$PYTHONPATH:/home/idies/workspace/Storage/sramakr4/persistent/miniconda3/envs/nextstrain/lib/python3.6/site-packages\n",
      "env: JUPYTER_PATH=$JUPYTER_PATH:/home/idies/workspace/Storage/sramakr4/persistent/miniconda3/envs/nextstrain/lib/python3.6/site-packages\n"
     ]
    }
   ],
   "source": [
    "# Setup environment to run nextstrain\n",
    "#run_cmd(\"/home/idies/workspace/Storage/sramakr4/persistent/bashrc\")\n",
    "%env PATH=$PATH:/home/idies/workspace/Storage/sramakr4/persistent/bin:/home/idies/workspace/Storage/sramakr4/persistent/miniconda3/envs/nextstrain/bin:/home/idies/miniconda3/condabin:/home/idies/.local/bin:/bin\n",
    "%env PYTHONPATH=$PYTHONPATH:/home/idies/workspace/Storage/sramakr4/persistent/miniconda3/envs/nextstrain/lib/python3.6/site-packages\n",
    "%env JUPYTER_PATH=$JUPYTER_PATH:/home/idies/workspace/Storage/sramakr4/persistent/miniconda3/envs/nextstrain/lib/python3.6/site-packages       "
   ]
  },
  {
   "cell_type": "code",
   "execution_count": 5,
   "metadata": {},
   "outputs": [],
   "source": [
    "WORKING_DIR=\"/home/idies/workspace/Storage/sramakr4/persistent/nextstrain_scripts/ncov\"\n",
    "os.chdir(WORKING_DIR)\n"
   ]
  },
  {
   "cell_type": "code",
   "execution_count": 172,
   "metadata": {},
   "outputs": [
    {
     "ename": "FileNotFoundError",
     "evalue": "[Errno 2] File b'/home/idies/workspace/Storage/sramakr4/persistent/nextstrain_scripts/ncov/test/test.report' does not exist: b'/home/idies/workspace/Storage/sramakr4/persistent/nextstrain_scripts/ncov/test/test.report'",
     "output_type": "error",
     "traceback": [
      "\u001b[0;31m\u001b[0m",
      "\u001b[0;31mFileNotFoundError\u001b[0mTraceback (most recent call last)",
      "\u001b[0;32m<ipython-input-172-9b7a79ee397b>\u001b[0m in \u001b[0;36m<module>\u001b[0;34m\u001b[0m\n\u001b[1;32m      1\u001b[0m \u001b[0msnp_report\u001b[0m\u001b[0;34m=\u001b[0m\u001b[0;34m\"/home/\"\u001b[0m\u001b[0;34m\u001b[0m\u001b[0;34m\u001b[0m\u001b[0m\n\u001b[0;32m----> 2\u001b[0;31m \u001b[0msnp_table\u001b[0m \u001b[0;34m=\u001b[0m \u001b[0mpd\u001b[0m\u001b[0;34m.\u001b[0m\u001b[0mread_table\u001b[0m\u001b[0;34m(\u001b[0m\u001b[0;34m\"/home/idies/workspace/Storage/sramakr4/persistent/nextstrain_scripts/ncov/test/test.report\"\u001b[0m\u001b[0;34m)\u001b[0m\u001b[0;34m\u001b[0m\u001b[0;34m\u001b[0m\u001b[0m\n\u001b[0m\u001b[1;32m      3\u001b[0m \u001b[0msnp_table\u001b[0m\u001b[0;34m.\u001b[0m\u001b[0mhead\u001b[0m\u001b[0;34m(\u001b[0m\u001b[0;34m)\u001b[0m\u001b[0;34m\u001b[0m\u001b[0;34m\u001b[0m\u001b[0m\n\u001b[1;32m      4\u001b[0m \u001b[0md\u001b[0m\u001b[0;34m=\u001b[0m \u001b[0msnp_table\u001b[0m\u001b[0;34m[\u001b[0m\u001b[0;34m'%OCCURENCES'\u001b[0m\u001b[0;34m]\u001b[0m\u001b[0;34m.\u001b[0m\u001b[0mto_numpy\u001b[0m\u001b[0;34m(\u001b[0m\u001b[0;34m)\u001b[0m\u001b[0;34m\u001b[0m\u001b[0;34m\u001b[0m\u001b[0m\n\u001b[1;32m      5\u001b[0m \u001b[0msnp_table\u001b[0m\u001b[0;34m.\u001b[0m\u001b[0mdescribe\u001b[0m\u001b[0;34m(\u001b[0m\u001b[0;34m)\u001b[0m\u001b[0;34m\u001b[0m\u001b[0;34m\u001b[0m\u001b[0m\n",
      "\u001b[0;32m~/miniconda3/envs/py37/lib/python3.7/site-packages/pandas/io/parsers.py\u001b[0m in \u001b[0;36mparser_f\u001b[0;34m(filepath_or_buffer, sep, delimiter, header, names, index_col, usecols, squeeze, prefix, mangle_dupe_cols, dtype, engine, converters, true_values, false_values, skipinitialspace, skiprows, skipfooter, nrows, na_values, keep_default_na, na_filter, verbose, skip_blank_lines, parse_dates, infer_datetime_format, keep_date_col, date_parser, dayfirst, cache_dates, iterator, chunksize, compression, thousands, decimal, lineterminator, quotechar, quoting, doublequote, escapechar, comment, encoding, dialect, error_bad_lines, warn_bad_lines, delim_whitespace, low_memory, memory_map, float_precision)\u001b[0m\n\u001b[1;32m    683\u001b[0m         )\n\u001b[1;32m    684\u001b[0m \u001b[0;34m\u001b[0m\u001b[0m\n\u001b[0;32m--> 685\u001b[0;31m         \u001b[0;32mreturn\u001b[0m \u001b[0m_read\u001b[0m\u001b[0;34m(\u001b[0m\u001b[0mfilepath_or_buffer\u001b[0m\u001b[0;34m,\u001b[0m \u001b[0mkwds\u001b[0m\u001b[0;34m)\u001b[0m\u001b[0;34m\u001b[0m\u001b[0;34m\u001b[0m\u001b[0m\n\u001b[0m\u001b[1;32m    686\u001b[0m \u001b[0;34m\u001b[0m\u001b[0m\n\u001b[1;32m    687\u001b[0m     \u001b[0mparser_f\u001b[0m\u001b[0;34m.\u001b[0m\u001b[0m__name__\u001b[0m \u001b[0;34m=\u001b[0m \u001b[0mname\u001b[0m\u001b[0;34m\u001b[0m\u001b[0;34m\u001b[0m\u001b[0m\n",
      "\u001b[0;32m~/miniconda3/envs/py37/lib/python3.7/site-packages/pandas/io/parsers.py\u001b[0m in \u001b[0;36m_read\u001b[0;34m(filepath_or_buffer, kwds)\u001b[0m\n\u001b[1;32m    455\u001b[0m \u001b[0;34m\u001b[0m\u001b[0m\n\u001b[1;32m    456\u001b[0m     \u001b[0;31m# Create the parser.\u001b[0m\u001b[0;34m\u001b[0m\u001b[0;34m\u001b[0m\u001b[0;34m\u001b[0m\u001b[0m\n\u001b[0;32m--> 457\u001b[0;31m     \u001b[0mparser\u001b[0m \u001b[0;34m=\u001b[0m \u001b[0mTextFileReader\u001b[0m\u001b[0;34m(\u001b[0m\u001b[0mfp_or_buf\u001b[0m\u001b[0;34m,\u001b[0m \u001b[0;34m**\u001b[0m\u001b[0mkwds\u001b[0m\u001b[0;34m)\u001b[0m\u001b[0;34m\u001b[0m\u001b[0;34m\u001b[0m\u001b[0m\n\u001b[0m\u001b[1;32m    458\u001b[0m \u001b[0;34m\u001b[0m\u001b[0m\n\u001b[1;32m    459\u001b[0m     \u001b[0;32mif\u001b[0m \u001b[0mchunksize\u001b[0m \u001b[0;32mor\u001b[0m \u001b[0miterator\u001b[0m\u001b[0;34m:\u001b[0m\u001b[0;34m\u001b[0m\u001b[0;34m\u001b[0m\u001b[0m\n",
      "\u001b[0;32m~/miniconda3/envs/py37/lib/python3.7/site-packages/pandas/io/parsers.py\u001b[0m in \u001b[0;36m__init__\u001b[0;34m(self, f, engine, **kwds)\u001b[0m\n\u001b[1;32m    893\u001b[0m             \u001b[0mself\u001b[0m\u001b[0;34m.\u001b[0m\u001b[0moptions\u001b[0m\u001b[0;34m[\u001b[0m\u001b[0;34m\"has_index_names\"\u001b[0m\u001b[0;34m]\u001b[0m \u001b[0;34m=\u001b[0m \u001b[0mkwds\u001b[0m\u001b[0;34m[\u001b[0m\u001b[0;34m\"has_index_names\"\u001b[0m\u001b[0;34m]\u001b[0m\u001b[0;34m\u001b[0m\u001b[0;34m\u001b[0m\u001b[0m\n\u001b[1;32m    894\u001b[0m \u001b[0;34m\u001b[0m\u001b[0m\n\u001b[0;32m--> 895\u001b[0;31m         \u001b[0mself\u001b[0m\u001b[0;34m.\u001b[0m\u001b[0m_make_engine\u001b[0m\u001b[0;34m(\u001b[0m\u001b[0mself\u001b[0m\u001b[0;34m.\u001b[0m\u001b[0mengine\u001b[0m\u001b[0;34m)\u001b[0m\u001b[0;34m\u001b[0m\u001b[0;34m\u001b[0m\u001b[0m\n\u001b[0m\u001b[1;32m    896\u001b[0m \u001b[0;34m\u001b[0m\u001b[0m\n\u001b[1;32m    897\u001b[0m     \u001b[0;32mdef\u001b[0m \u001b[0mclose\u001b[0m\u001b[0;34m(\u001b[0m\u001b[0mself\u001b[0m\u001b[0;34m)\u001b[0m\u001b[0;34m:\u001b[0m\u001b[0;34m\u001b[0m\u001b[0;34m\u001b[0m\u001b[0m\n",
      "\u001b[0;32m~/miniconda3/envs/py37/lib/python3.7/site-packages/pandas/io/parsers.py\u001b[0m in \u001b[0;36m_make_engine\u001b[0;34m(self, engine)\u001b[0m\n\u001b[1;32m   1133\u001b[0m     \u001b[0;32mdef\u001b[0m \u001b[0m_make_engine\u001b[0m\u001b[0;34m(\u001b[0m\u001b[0mself\u001b[0m\u001b[0;34m,\u001b[0m \u001b[0mengine\u001b[0m\u001b[0;34m=\u001b[0m\u001b[0;34m\"c\"\u001b[0m\u001b[0;34m)\u001b[0m\u001b[0;34m:\u001b[0m\u001b[0;34m\u001b[0m\u001b[0;34m\u001b[0m\u001b[0m\n\u001b[1;32m   1134\u001b[0m         \u001b[0;32mif\u001b[0m \u001b[0mengine\u001b[0m \u001b[0;34m==\u001b[0m \u001b[0;34m\"c\"\u001b[0m\u001b[0;34m:\u001b[0m\u001b[0;34m\u001b[0m\u001b[0;34m\u001b[0m\u001b[0m\n\u001b[0;32m-> 1135\u001b[0;31m             \u001b[0mself\u001b[0m\u001b[0;34m.\u001b[0m\u001b[0m_engine\u001b[0m \u001b[0;34m=\u001b[0m \u001b[0mCParserWrapper\u001b[0m\u001b[0;34m(\u001b[0m\u001b[0mself\u001b[0m\u001b[0;34m.\u001b[0m\u001b[0mf\u001b[0m\u001b[0;34m,\u001b[0m \u001b[0;34m**\u001b[0m\u001b[0mself\u001b[0m\u001b[0;34m.\u001b[0m\u001b[0moptions\u001b[0m\u001b[0;34m)\u001b[0m\u001b[0;34m\u001b[0m\u001b[0;34m\u001b[0m\u001b[0m\n\u001b[0m\u001b[1;32m   1136\u001b[0m         \u001b[0;32melse\u001b[0m\u001b[0;34m:\u001b[0m\u001b[0;34m\u001b[0m\u001b[0;34m\u001b[0m\u001b[0m\n\u001b[1;32m   1137\u001b[0m             \u001b[0;32mif\u001b[0m \u001b[0mengine\u001b[0m \u001b[0;34m==\u001b[0m \u001b[0;34m\"python\"\u001b[0m\u001b[0;34m:\u001b[0m\u001b[0;34m\u001b[0m\u001b[0;34m\u001b[0m\u001b[0m\n",
      "\u001b[0;32m~/miniconda3/envs/py37/lib/python3.7/site-packages/pandas/io/parsers.py\u001b[0m in \u001b[0;36m__init__\u001b[0;34m(self, src, **kwds)\u001b[0m\n\u001b[1;32m   1915\u001b[0m         \u001b[0mkwds\u001b[0m\u001b[0;34m[\u001b[0m\u001b[0;34m\"usecols\"\u001b[0m\u001b[0;34m]\u001b[0m \u001b[0;34m=\u001b[0m \u001b[0mself\u001b[0m\u001b[0;34m.\u001b[0m\u001b[0musecols\u001b[0m\u001b[0;34m\u001b[0m\u001b[0;34m\u001b[0m\u001b[0m\n\u001b[1;32m   1916\u001b[0m \u001b[0;34m\u001b[0m\u001b[0m\n\u001b[0;32m-> 1917\u001b[0;31m         \u001b[0mself\u001b[0m\u001b[0;34m.\u001b[0m\u001b[0m_reader\u001b[0m \u001b[0;34m=\u001b[0m \u001b[0mparsers\u001b[0m\u001b[0;34m.\u001b[0m\u001b[0mTextReader\u001b[0m\u001b[0;34m(\u001b[0m\u001b[0msrc\u001b[0m\u001b[0;34m,\u001b[0m \u001b[0;34m**\u001b[0m\u001b[0mkwds\u001b[0m\u001b[0;34m)\u001b[0m\u001b[0;34m\u001b[0m\u001b[0;34m\u001b[0m\u001b[0m\n\u001b[0m\u001b[1;32m   1918\u001b[0m         \u001b[0mself\u001b[0m\u001b[0;34m.\u001b[0m\u001b[0munnamed_cols\u001b[0m \u001b[0;34m=\u001b[0m \u001b[0mself\u001b[0m\u001b[0;34m.\u001b[0m\u001b[0m_reader\u001b[0m\u001b[0;34m.\u001b[0m\u001b[0munnamed_cols\u001b[0m\u001b[0;34m\u001b[0m\u001b[0;34m\u001b[0m\u001b[0m\n\u001b[1;32m   1919\u001b[0m \u001b[0;34m\u001b[0m\u001b[0m\n",
      "\u001b[0;32mpandas/_libs/parsers.pyx\u001b[0m in \u001b[0;36mpandas._libs.parsers.TextReader.__cinit__\u001b[0;34m()\u001b[0m\n",
      "\u001b[0;32mpandas/_libs/parsers.pyx\u001b[0m in \u001b[0;36mpandas._libs.parsers.TextReader._setup_parser_source\u001b[0;34m()\u001b[0m\n",
      "\u001b[0;31mFileNotFoundError\u001b[0m: [Errno 2] File b'/home/idies/workspace/Storage/sramakr4/persistent/nextstrain_scripts/ncov/test/test.report' does not exist: b'/home/idies/workspace/Storage/sramakr4/persistent/nextstrain_scripts/ncov/test/test.report'"
     ]
    }
   ],
   "source": [
    "snp_report=\"/home/\"\n",
    "snp_table = pd.read_table(\"/home/idies/workspace/covid\")\n",
    "snp_table.head()\n",
    "d= snp_table['%OCCURENCES'].to_numpy()\n",
    "snp_table.describe()"
   ]
  },
  {
   "cell_type": "code",
   "execution_count": 48,
   "metadata": {},
   "outputs": [
    {
     "data": {
      "text/plain": [
       "(0.0, 3430.0)"
      ]
     },
     "execution_count": 48,
     "metadata": {},
     "output_type": "execute_result"
    },
    {
     "data": {
      "image/png": "[encoded data removed]",
      "text/plain": [
       "<Figure size 432x288 with 1 Axes>"
      ]
     },
     "metadata": {
      "needs_background": "light"
     },
     "output_type": "display_data"
    }
   ],
   "source": [
    "import matplotlib.pyplot as plt\n",
    "n, bins, patches = plt.hist(x=d, bins=50, color='#0504aa',\n",
    "                            alpha=0.7, rwidth=0.85)\n",
    "plt.grid(axis='y', alpha=0.75)\n",
    "plt.xlabel('% Occurence in Samples')\n",
    "plt.ylabel('Frequency')\n",
    "plt.title('SNP Frequency Histogram')\n",
    "maxfreq = n.max()\n",
    "# Set a clean upper y-axis limit.\n",
    "plt.ylim(ymax=np.ceil(maxfreq / 10) * 10 if maxfreq % 10 else maxfreq + 10)\n"
   ]
  },
  {
   "cell_type": "code",
   "execution_count": 163,
   "metadata": {},
   "outputs": [
    {
     "name": "stdout",
     "output_type": "stream",
     "text": [
      "                   0\n",
      "0    USA/MDHM-6/2020\n",
      "1    USA/MDHM-7/2020\n",
      "2   USA/MDHM-10/2020\n",
      "3   USA/MDHM-15/2020\n",
      "4   USA/MDHM-22/2020\n",
      "5   USA/MDHM-32/2020\n",
      "6   USA/MDHM-33/2020\n",
      "7   USA/MDHM-16/2020\n",
      "8   USA/MDHM-20/2020\n",
      "9   USA/MDHM-23/2020\n",
      "10  USA/MDHM-24/2020\n",
      "11  USA/MDHM-25/2020\n",
      "12  USA/MDHM-26/2020\n",
      "13  USA/MDHM-28/2020\n",
      "14  USA/MDHM-29/2020\n",
      "15  USA/MDHM-30/2020\n",
      "16  USA/MDHM-36/2020\n",
      "17  USA/MDHM-37/2020\n",
      "18  USA/MDHM-38/2020\n",
      "19  USA/MDHM-43/2020\n",
      "20  USA/MDHM-44/2020\n",
      "21  USA/MDHM-46/2020\n",
      "22  USA/MDHM-48/2020\n",
      "23  USA/MDHM-49/2020\n",
      "24  USA/MDHM-50/2020\n",
      "25  USA/MDHM-51/2020\n",
      "26  USA/MDHM-52/2020\n",
      "27  USA/MDHM-53/2020\n",
      "28  USA/MDHM-56/2020\n",
      "29  USA/MDHM-57/2020\n",
      "30  USA/MDHM-59/2020\n",
      "31  USA/MDHM-61/2020\n",
      "32  USA/MDHM-62/2020\n",
      "33  USA/MDHM-63/2020\n",
      "34  USA/MDHM-64/2020\n",
      "35  USA/MDHM-65/2020\n",
      "36  USA/MDHM-67/2020\n",
      "(1200, 5007)\n",
      "Index(['#CHROM', 'POS', 'ID', 'REF', 'ALT', 'QUAL', 'FILTER', 'INFO', 'FORMAT',\n",
      "       'USA/WI-11/2020',\n",
      "       ...\n",
      "       'Georgia/Tb-390/2020', 'England/20130050904/2020',\n",
      "       'England/20130049804/2020', 'England/20130061404/2020',\n",
      "       'England/20130036004/2020', 'England/20130034904/2020',\n",
      "       'England/20130033704/2020', 'England/20130034604/2020',\n",
      "       'England/20130061504/2020', 'England/20130053004/2020'],\n",
      "      dtype='object', length=5007)\n",
      "   #CHROM  POS ID REF ALT QUAL FILTER INFO  TOTAL_SAMPLES OCCURENCES\n",
      "0       1  658  .   T   C    .      .    .           4961         12\n",
      "1       1  679  .   C   T    .      .    .           4961          2\n",
      "2       1  680  .   G   A    .      .    .           4961          1\n",
      "3       1  683  .   C   T    .      .    .           4961          1\n",
      "4       1  700  .   A   G    .      .    .           4961          2\n",
      "(1200, 10)\n"
     ]
    }
   ],
   "source": [
    "snps_vcf = pd.read_table(\"/home/idies/workspace/Storage/sramakr4/persistent/nextstrain_scripts/ncov/test/snps_msa.vcf\", skiprows=3)\n",
    "exclude_list = pd.read_table(\"/home/idies/workspace/Storage/sramakr4/persistent/nextstrain_scripts/ncov/test/exclude_samples.txt\",header=None)\n",
    "#snps_vcf.head()\n",
    "print(exclude_list)\n",
    "print(snps_vcf.shape)\n",
    "print(snps_vcf.columns)\n",
    "snps_vcf.drop(exclude_list[0],axis=1, inplace=True)\n",
    "snps_vcf = snps_vcf[snps_vcf.ALT.str.contains('A|C|G|T|a|c|g|t') == True]\n",
    "out_vcf = snps_vcf.iloc[:,0:8]\n",
    "out_vcf['TOTAL_SAMPLES']= (snps_vcf.shape[1]-9)\n",
    "out_vcf['OCCURENCES']= snps_vcf.iloc[:,9:snps_vcf.shape[1]].sum(axis=1)\n",
    "counts= {}\n",
    "aln_counts = []\n",
    "for i in range(snps_vcf.shape[0]):\n",
    "    #print(snps_vcf.iloc[i,9:snps_vcf.shape[1]])\n",
    "    counts = snps_vcf.iloc[i,9:snps_vcf.shape[1]].value_counts().to_dict()\n",
    "    sorted_counts={k: counts[k] for k in sorted(counts)}\n",
    "    counts = \",\".join([ str(counts[i]) for i in sorted_counts if i != 0])\n",
    "    aln_counts.append(counts)\n",
    "\n",
    "out_vcf['OCCURENCES'] = aln_counts\n",
    "#for row in snps_vcf.iterrows():\n",
    "#    print(row[9])\n",
    "#out_vcf['%_OCCURENCES']= [ round(float(i/(snps_vcf.shape[1]-9) * 100 ),2) if i != 0 else 0 for i in out_vcf['OCCURENCES']  ] \n",
    "print(out_vcf.head())\n",
    "print(out_vcf.shape)"
   ]
  },
  {
   "cell_type": "code",
   "execution_count": 47,
   "metadata": {},
   "outputs": [],
   "source": [
    "#from Bio import SeqIO\n",
    "snps_vcf = pd.read_table(\"/home/idies/workspace/Storage/sramakr4/persistent/nextstrain_scripts/test/snps_msa_all.vcf\", skiprows=3)\n",
    "row_id = snps_vcf[snps_vcf['POS'] == 241].index.to_list()[0]\n"
   ]
  },
  {
   "cell_type": "code",
   "execution_count": 24,
   "metadata": {},
   "outputs": [
    {
     "name": "stdout",
     "output_type": "stream",
     "text": [
      "Output: \n",
      "Pileup.py\n",
      "TabProxies.cpython-36m-x86_64-linux-gnu.so\n",
      "TabProxies.pxd\n",
      "TabProxies.py\n",
      "__init__.py\n",
      "__pycache__\n",
      "calignmentfile.cpython-36m-x86_64-linux-gnu.so\n",
      "calignmentfile.pxd\n",
      "calignmentfile.py\n",
      "cbcf.cpython-36m-x86_64-linux-gnu.so\n",
      "cbcf.pxd\n",
      "cbcf.py\n",
      "cfaidx.cpython-36m-x86_64-linux-gnu.so\n",
      "cfaidx.pxd\n",
      "cfaidx.py\n",
      "chtslib.pxd\n",
      "csamfile.cpython-36m-x86_64-linux-gnu.so\n",
      "csamfile.pxd\n",
      "csamfile.py\n",
      "csamtools.cpython-36m-x86_64-linux-gnu.so\n",
      "csamtools.pxd\n",
      "csamtools.py\n",
      "ctabix.cpython-36m-x86_64-linux-gnu.so\n",
      "ctabix.pxd\n",
      "ctabix.py\n",
      "cvcf.cpython-36m-x86_64-linux-gnu.so\n",
      "cvcf.pxd\n",
      "cvcf.py\n",
      "htslib_util.h\n",
      "include\n",
      "libchtslib.cpython-36m-x86_64-linux-gnu.so\n",
      "libchtslib.py\n",
      "namedtuple.py\n",
      "pysam_stream.h\n",
      "pysam_util.h\n",
      "samfile_util.h\n",
      "tabix_util.h\n",
      "version.py\n",
      "\n",
      "\n"
     ]
    }
   ],
   "source": [
    "run_cmd(\"ls /home/idies/workspace/Storage/sramakr4/persistent/miniconda3/envs/nextstrain/lib/python3.6/site-packages/pysam\")"
   ]
  },
  {
   "cell_type": "code",
   "execution_count": 27,
   "metadata": {},
   "outputs": [
    {
     "name": "stdout",
     "output_type": "stream",
     "text": [
      "Requirement already satisfied: pysam in /home/idies/workspace/Storage/sramakr4/persistent/miniconda3/envs/nextstrain/lib/python3.6/site-packages (0.8.3)\n"
     ]
    }
   ],
   "source": [
    "!pip install pysam"
   ]
  },
  {
   "cell_type": "code",
   "execution_count": 30,
   "metadata": {},
   "outputs": [
    {
     "ename": "SyntaxError",
     "evalue": "invalid syntax (<ipython-input-30-2b72591b62cc>, line 1)",
     "output_type": "error",
     "traceback": [
      "\u001b[0;36m  File \u001b[0;32m\"<ipython-input-30-2b72591b62cc>\"\u001b[0;36m, line \u001b[0;32m1\u001b[0m\n\u001b[0;31m    locate pysam\u001b[0m\n\u001b[0m               ^\u001b[0m\n\u001b[0;31mSyntaxError\u001b[0m\u001b[0;31m:\u001b[0m invalid syntax\n"
     ]
    }
   ],
   "source": []
  },
  {
   "cell_type": "code",
   "execution_count": null,
   "metadata": {},
   "outputs": [],
   "source": []
  }
 ],
 "metadata": {
  "kernelspec": {
   "display_name": "Python 3.7 (py37)",
   "language": "python",
   "name": "py37"
  },
  "language_info": {
   "codemirror_mode": {
    "name": "ipython",
    "version": 3
   },
   "file_extension": ".py",
   "mimetype": "text/x-python",
   "name": "python",
   "nbconvert_exporter": "python",
   "pygments_lexer": "ipython3",
   "version": "3.7.4"
  }
 },
 "nbformat": 4,
 "nbformat_minor": 4
}
